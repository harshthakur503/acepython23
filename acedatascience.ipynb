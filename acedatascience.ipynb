{
 "cells": [
  {
   "cell_type": "markdown",
   "metadata": {},
   "source": [
    "### 1. Finding the runner up of a game. Getting the second highest element of the Array"
   ]
  },
  {
   "cell_type": "code",
   "execution_count": null,
   "metadata": {},
   "outputs": [],
   "source": [
    "if __name__ == '__main__':\n",
    "    n = int(input())\n",
    "    arr = list(map(int, input.split()))\n",
    "\n",
    "    temp_list = list(arr)\n",
    "    max_element = max(arr)\n",
    "\n",
    "    while max_element in temp_list:\n",
    "        temp_list.remove(max_element)\n",
    "\n",
    "    if len(temp_list) > 0:\n",
    "        runner_up = max(temp_list)\n",
    "        print(runner_up)\n",
    "    else:\n",
    "        print(\"The list does not have a runner up\")\n",
    "        \n"
   ]
  },
  {
   "cell_type": "markdown",
   "metadata": {},
   "source": [
    "### Finding average of total marks for a given student. Taking input from the user and then finding the average"
   ]
  },
  {
   "cell_type": "code",
   "execution_count": null,
   "metadata": {},
   "outputs": [],
   "source": [
    "if __name__ == '__main__':\n",
    "    n = int(input())\n",
    "    student_marks = {}\n",
    "    for _ in range(n):\n",
    "        name, *line = input().split()\n",
    "        score = list(map(float, line))\n",
    "        student_marks[name] = score\n",
    "    query_name = input()\n",
    "\n",
    "    queried_marks = student_marks[query_name]\n",
    "    average_marks = sum(queried_marks) / len(queried_marks)\n",
    "    print(average_marks)"
   ]
  },
  {
   "cell_type": "markdown",
   "metadata": {},
   "source": [
    "### Converting a list of integers and converting that to a tuple. Then applying the hash function to the tuple "
   ]
  },
  {
   "cell_type": "code",
   "execution_count": 2,
   "metadata": {},
   "outputs": [
    {
     "name": "stdout",
     "output_type": "stream",
     "text": [
      "6909455589863252355\n"
     ]
    }
   ],
   "source": [
    "n = int(input())\n",
    "int_list = map(int,input().split())\n",
    "t= tuple(int_list)\n",
    "h = hash(t)\n",
    "\n",
    "print(h)"
   ]
  },
  {
   "cell_type": "markdown",
   "metadata": {},
   "source": [
    "### Creating a dictionary to store students marks and printing the average result of a given student"
   ]
  },
  {
   "cell_type": "code",
   "execution_count": null,
   "metadata": {},
   "outputs": [],
   "source": [
    "n = int(input()) # This stores the number of students\n",
    "student_marks = {} # Creating an empty dictionary\n",
    "\n",
    "for _ in range(n):\n",
    "    name, *marks = input().split\n",
    "    marks = list(map(float, marks))\n",
    "    student_marks[name] = marks\n",
    "\n",
    "query_name = input() \n",
    "query_marks = student_marks[query_name]\n",
    "average_marks = sum(query_marks) / len(query_marks)\n",
    "\n",
    "print(f\"{average_marks:.2f}\")"
   ]
  },
  {
   "cell_type": "markdown",
   "metadata": {},
   "source": [
    "### Reading the input from the user and performing operations on the list according to the command. List of operations could be: insert, remove, append, sort, print, etc."
   ]
  },
  {
   "cell_type": "code",
   "execution_count": null,
   "metadata": {},
   "outputs": [],
   "source": [
    "N = int(input())\n",
    "my_list = []\n",
    "\n",
    "for _ in range(N):\n",
    "    command = input().split()\n",
    "\n",
    "    if command[0] == 'insert':\n",
    "            my_list.insert(int(command[1]), int(command[2]))\n",
    "    elif command[0] == 'print':\n",
    "            print(my_list)\n",
    "    elif command[0] == 'remove':\n",
    "            my_list.remove(int(command[1]))\n",
    "    elif command[0] == 'append':\n",
    "            my_list.append(int(command[1]))\n",
    "    elif command[0] == 'sort':\n",
    "            my_list.sort()\n",
    "    elif command[0] == 'pop':\n",
    "            my_list.pop()\n",
    "    elif command[0] == 'reverse':\n",
    "            my_list.reverse()"
   ]
  }
 ],
 "metadata": {
  "kernelspec": {
   "display_name": "Python 3",
   "language": "python",
   "name": "python3"
  },
  "language_info": {
   "codemirror_mode": {
    "name": "ipython",
    "version": 3
   },
   "file_extension": ".py",
   "mimetype": "text/x-python",
   "name": "python",
   "nbconvert_exporter": "python",
   "pygments_lexer": "ipython3",
   "version": "3.10.0"
  }
 },
 "nbformat": 4,
 "nbformat_minor": 2
}
