{
 "cells": [
  {
   "cell_type": "markdown",
   "metadata": {},
   "source": [
    "### 1. Finding the runner up of a game. Getting the second highest element of the Array"
   ]
  },
  {
   "cell_type": "code",
   "execution_count": null,
   "metadata": {},
   "outputs": [],
   "source": [
    "if __name__ == '__main__':\n",
    "    n = int(input())\n",
    "    arr = list(map(int, input.split()))\n",
    "\n",
    "    temp_list = list(arr)\n",
    "    max_element = max(arr)\n",
    "\n",
    "    while max_element in temp_list:\n",
    "        temp_list.remove(max_element)\n",
    "\n",
    "    if len(temp_list) > 0:\n",
    "        runner_up = max(temp_list)\n",
    "        print(runner_up)\n",
    "    else:\n",
    "        print(\"The list does not have a runner up\")\n",
    "        \n"
   ]
  },
  {
   "cell_type": "markdown",
   "metadata": {},
   "source": [
    "### Finding average of total marks for a given student. Taking input from the user and then finding the average"
   ]
  },
  {
   "cell_type": "code",
   "execution_count": null,
   "metadata": {},
   "outputs": [],
   "source": [
    "if __name__ == '__main__':\n",
    "    n = int(input())\n",
    "    student_marks = {}\n",
    "    for _ in range(n):\n",
    "        name, *line = input().split()\n",
    "        score = list(map(float, line))\n",
    "        student_marks[name] = score\n",
    "    query_name = input()\n",
    "\n",
    "    queried_marks = student_marks[query_name]\n",
    "    average_marks = sum(queried_marks) / len(queried_marks)\n",
    "    print(average_marks)"
   ]
  },
  {
   "cell_type": "markdown",
   "metadata": {},
   "source": [
    "### Converting a list of integers and converting that to a tuple. Then applying the hash function to the tuple "
   ]
  },
  {
   "cell_type": "code",
   "execution_count": 2,
   "metadata": {},
   "outputs": [
    {
     "name": "stdout",
     "output_type": "stream",
     "text": [
      "6909455589863252355\n"
     ]
    }
   ],
   "source": [
    "n = int(input())\n",
    "int_list = map(int,input().split())\n",
    "t= tuple(int_list)\n",
    "h = hash(t)\n",
    "\n",
    "print(h)"
   ]
  },
  {
   "cell_type": "markdown",
   "metadata": {},
   "source": [
    "### Creating a dictionary to store students marks and printing the average result of a given student"
   ]
  },
  {
   "cell_type": "code",
   "execution_count": null,
   "metadata": {},
   "outputs": [],
   "source": [
    "n = int(input()) # This stores the number of students\n",
    "student_marks = {} # Creating an empty dictionary\n",
    "\n",
    "for _ in range(n):\n",
    "    name, *marks = input().split\n",
    "    marks = list(map(float, marks))\n",
    "    student_marks[name] = marks\n",
    "\n",
    "query_name = input() \n",
    "query_marks = student_marks[query_name]\n",
    "average_marks = sum(query_marks) / len(query_marks)\n",
    "\n",
    "print(f\"{average_marks:.2f}\")"
   ]
  },
  {
   "cell_type": "markdown",
   "metadata": {},
   "source": [
    "### Reading the input from the user and performing operations on the list according to the command. List of operations could be: insert, remove, append, sort, print, etc."
   ]
  },
  {
   "cell_type": "code",
   "execution_count": null,
   "metadata": {},
   "outputs": [],
   "source": [
    "N = int(input())\n",
    "my_list = []\n",
    "\n",
    "for _ in range(N):\n",
    "    command = input().split()\n",
    "\n",
    "    if command[0] == 'insert':\n",
    "            my_list.insert(int(command[1]), int(command[2]))\n",
    "    elif command[0] == 'print':\n",
    "            print(my_list)\n",
    "    elif command[0] == 'remove':\n",
    "            my_list.remove(int(command[1]))\n",
    "    elif command[0] == 'append':\n",
    "            my_list.append(int(command[1]))\n",
    "    elif command[0] == 'sort':\n",
    "            my_list.sort()\n",
    "    elif command[0] == 'pop':\n",
    "            my_list.pop()\n",
    "    elif command[0] == 'reverse':\n",
    "            my_list.reverse()"
   ]
  },
  {
   "cell_type": "markdown",
   "metadata": {},
   "source": [
    "### Splitting and joing a text"
   ]
  },
  {
   "cell_type": "code",
   "execution_count": null,
   "metadata": {},
   "outputs": [],
   "source": [
    "def split_join(line):\n",
    "    words = line.split(\" \")\n",
    "    line = \"-\".join(words)\n",
    "    return line;\n",
    "\n",
    "\n",
    "line = input()\n",
    "result = split_join(line)\n",
    "print(result)"
   ]
  },
  {
   "cell_type": "markdown",
   "metadata": {},
   "source": [
    "### Printing first and last name with the help of string concatenation "
   ]
  },
  {
   "cell_type": "code",
   "execution_count": null,
   "metadata": {},
   "outputs": [],
   "source": [
    "def print_full_name(first, last):\n",
    "    print(\"Hello\", first, last + \"!\", \"You just delved into python.\")\n",
    "\n",
    "\n",
    "\n",
    "if __name__ == '__main__':\n",
    "    first_name = input()\n",
    "    last_name = input()\n",
    "    print_full_name(first_name, last_name)"
   ]
  },
  {
   "cell_type": "markdown",
   "metadata": {},
   "source": [
    "### Mutating a string to make it a list and then inserting a character by index swapping"
   ]
  },
  {
   "cell_type": "code",
   "execution_count": null,
   "metadata": {},
   "outputs": [],
   "source": [
    "def mutate_string(string, position, character):\n",
    "    l = list(string)\n",
    "    l[position] = character\n",
    "    string = ''.join(l)\n",
    "    return string;\n",
    "\n",
    "s = input()\n",
    "i , c = input().split()\n",
    "pr_string = mutate_string(s,i,c)\n",
    "print(pr_string)"
   ]
  },
  {
   "cell_type": "markdown",
   "metadata": {},
   "source": [
    "### Swap alphabets from Upper Case to Lower Case in a string   "
   ]
  },
  {
   "cell_type": "code",
   "execution_count": 3,
   "metadata": {},
   "outputs": [
    {
     "name": "stdout",
     "output_type": "stream",
     "text": [
      "uPPEr\n"
     ]
    }
   ],
   "source": [
    "def case_swap(string):\n",
    "    swapped= \"\"\n",
    "    for character in string:\n",
    "        if character.isupper():\n",
    "            swapped = swapped + character.lower()\n",
    "        else: \n",
    "            swapped = swapped + character.upper()    \n",
    "    return swapped;\n",
    "\n",
    "\n",
    "if __name__ == '__main__':\n",
    "    s = input()\n",
    "    result = case_swap(s)\n",
    "    print(result);"
   ]
  },
  {
   "cell_type": "markdown",
   "metadata": {},
   "source": [
    "### Finding substring within a String"
   ]
  },
  {
   "cell_type": "code",
   "execution_count": null,
   "metadata": {},
   "outputs": [],
   "source": [
    "def find_substring_count(string, sub_string):\n",
    "    count = 0\n",
    "    for i in range(len(string)):\n",
    "        if string[i:i+len(sub_string)] == string:\n",
    "            count = count+1;\n",
    "    return count;\n",
    "\n",
    "if __name__ == '__main__':\n",
    "    s1 = input().strip()\n",
    "    s2 = input().strip()\n",
    "    result = find_substring_count(s1,s2)\n",
    "    print(s1,s2, result)"
   ]
  },
  {
   "cell_type": "markdown",
   "metadata": {},
   "source": [
    "### Checking if any character within a given string is alphabetical characters, alphanumeric characters, digits, etc."
   ]
  },
  {
   "cell_type": "code",
   "execution_count": null,
   "metadata": {},
   "outputs": [],
   "source": [
    "if __name__ == \"__main__\":\n",
    "    s = input()\n",
    "    print(any(char.isalnum() for char in s))\n",
    "    print(any(char.isalpha() for char in s))\n",
    "    print(any(char.isdigit() for char in s))\n",
    "    print(any(char.islower() for char in s))\n",
    "    print(any(char.isupper() for char in s))"
   ]
  },
  {
   "cell_type": "markdown",
   "metadata": {},
   "source": [
    "### Text wrap for indenting a string with a given width\n",
    "First, we will import the python module called \"testwrap\" . Then we will make a function which takes an input string from the user. In the text wrap function we will pass the string, as well as the given width after which we want to insert the indentation. Here in the given problem, we want to insert a line break character \"\\n\" after the given width"
   ]
  },
  {
   "cell_type": "code",
   "execution_count": null,
   "metadata": {},
   "outputs": [],
   "source": [
    "import textwrap\n",
    "\n",
    "def wrap(string, width):\n",
    "    result = \"\\n\".join(textwrap.wrap(string,width))\n",
    "    return result;\n",
    "\n",
    "if __name__ == '__main__':\n",
    "    s = input()\n",
    "    w = int(input())\n",
    "    r = wrap(s,w)\n",
    "    print(r)\n"
   ]
  },
  {
   "cell_type": "markdown",
   "metadata": {},
   "source": [
    "### Printing different types of strings- Decimal, Octal, Hexadecimal, and Binary. \n",
    "In this, we will create a function which takes a string. The task in this problem is to arrange the all four string types in four different vertical lists. The first column would be for decimal, then for octal and so on. The task is also to add space after each column. We will do that using the rjust() function which takes a width parameter and we will put (' ' ) as a space for the width"
   ]
  },
  {
   "cell_type": "code",
   "execution_count": 11,
   "metadata": {},
   "outputs": [],
   "source": [
    "def format_width(n):\n",
    "    width = len(bin(n)[2:])\n",
    "    for i in range(1,n+1):\n",
    "        decimal = str(i).rjust(width, ' ')\n",
    "        octal = oct(i)[2:].rjust(width, ' ')\n",
    "        hexadecimal = hex(i)[2:].upper().rjust(width, ' ')\n",
    "        binary = bin(i)[2:].rjust(width, ' ')\n",
    "\n",
    "        print(f\"{decimal} {octal} {hexadecimal} {binary}\")\n",
    "\n"
   ]
  },
  {
   "cell_type": "markdown",
   "metadata": {},
   "source": [
    "### Capitalizing the first character of a name. \n",
    "For example, if the name is harsh thakur, then H and T should be capitalized. Essentially the first character of the string should be capitalized, and then the character after a space should also be capitalized. First we will take an input string.  The goal is to loop through each character in the string, and keep storing each character in the new string variable. If a space is detected before any character, then capitalize that character."
   ]
  },
  {
   "cell_type": "code",
   "execution_count": 26,
   "metadata": {},
   "outputs": [
    {
     "name": "stdout",
     "output_type": "stream",
     "text": [
      "Harsh Thaj\n"
     ]
    }
   ],
   "source": [
    "str = input()\n",
    "def cap(str):\n",
    "    result = str[0].upper()\n",
    "    for i in range(1,len(str)):\n",
    "        if str[i-1].isspace():\n",
    "            result = result + str[i].upper()\n",
    "        else: \n",
    "            result = result + str[i]\n",
    "    print(result)\n",
    "\n",
    "cap(str)"
   ]
  },
  {
   "cell_type": "markdown",
   "metadata": {},
   "source": [
    "### Merging tools\n",
    "In this problem, we need to divide the string into equal parts specified by the user. The user will give two inputs- Input string, and an integer which will divide the string into equal parts. For instance, if the user writes ABCDEF, and gives 2 as the integer value then the string would be divided as AB CD EF. One more thing that needs to be done is that if there are two consecutive strings in one block, then one of the character needs to be scraped."
   ]
  },
  {
   "cell_type": "code",
   "execution_count": 27,
   "metadata": {},
   "outputs": [],
   "source": [
    "def mergetool(string, k):\n",
    "    n = len(string)\n",
    "    o = n //k\n",
    "    \n",
    "    for i in range(0, n, k):\n",
    "        block = string[i:i+k]\n",
    "        unique_char = []\n",
    "    \n",
    "        for char in block:\n",
    "            if char not in unique_char:\n",
    "                unique_char.append(char)\n",
    "    print(''.join(unique_char))\n",
    "\n",
    "\n"
   ]
  },
  {
   "cell_type": "markdown",
   "metadata": {},
   "source": [
    "### Print the length of a set with distinct countries\n",
    "Here first we will create an empty set. Then we will ask the user how many countries they want to store in that set. Then we will make the user enter N countries in the set, and after that we will find out how many items are there in the set. "
   ]
  },
  {
   "cell_type": "code",
   "execution_count": null,
   "metadata": {},
   "outputs": [],
   "source": [
    "country_list = set()\n",
    "n = int(input())\n",
    "\n",
    "for _ in range(n):\n",
    "    country = input()\n",
    "    country_list.add(country)\n",
    "\n",
    "print(len(country_list))"
   ]
  },
  {
   "cell_type": "markdown",
   "metadata": {},
   "source": [
    "### Set union operators\n",
    "Take two different set of input from the user to form english and french students who watch netflix. We need to find students who at least watch english or french series on Netflix. We will use set functions to get this done. "
   ]
  },
  {
   "cell_type": "code",
   "execution_count": null,
   "metadata": {},
   "outputs": [],
   "source": [
    "n = int(input())\n",
    "english = set(map(int, input().split()))\n",
    "\n",
    "b = int(input())\n",
    "french = set(map(int, input().split()))\n",
    "\n",
    "total = english.union(french)\n",
    "print(len(total))"
   ]
  },
  {
   "cell_type": "code",
   "execution_count": null,
   "metadata": {},
   "outputs": [],
   "source": []
  },
  {
   "cell_type": "code",
   "execution_count": null,
   "metadata": {},
   "outputs": [],
   "source": []
  }
 ],
 "metadata": {
  "kernelspec": {
   "display_name": "Python 3",
   "language": "python",
   "name": "python3"
  },
  "language_info": {
   "codemirror_mode": {
    "name": "ipython",
    "version": 3
   },
   "file_extension": ".py",
   "mimetype": "text/x-python",
   "name": "python",
   "nbconvert_exporter": "python",
   "pygments_lexer": "ipython3",
   "version": "3.10.0"
  }
 },
 "nbformat": 4,
 "nbformat_minor": 2
}
