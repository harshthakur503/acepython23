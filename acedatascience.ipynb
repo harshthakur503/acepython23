{
 "cells": [
  {
   "cell_type": "markdown",
   "metadata": {},
   "source": [
    "### 1. Finding the runner up of a game. Getting the second highest element of the Array"
   ]
  },
  {
   "cell_type": "code",
   "execution_count": null,
   "metadata": {},
   "outputs": [],
   "source": [
    "if __name__ == '__main__':\n",
    "    n = int(input())\n",
    "    arr = list(map(int, input.split()))\n",
    "\n",
    "    temp_list = list(arr)\n",
    "    max_element = max(arr)\n",
    "\n",
    "    while max_element in temp_list:\n",
    "        temp_list.remove(max_element)\n",
    "\n",
    "    if len(temp_list) > 0:\n",
    "        runner_up = max(temp_list)\n",
    "        print(runner_up)\n",
    "    else:\n",
    "        print(\"The list does not have a runner up\")\n",
    "        \n"
   ]
  },
  {
   "cell_type": "markdown",
   "metadata": {},
   "source": [
    "### Finding average of total marks for a given student. Taking input from the user and then finding the average"
   ]
  },
  {
   "cell_type": "code",
   "execution_count": null,
   "metadata": {},
   "outputs": [],
   "source": [
    "if __name__ == '__main__':\n",
    "    n = int(input())\n",
    "    student_marks = {}\n",
    "    for _ in range(n):\n",
    "        name, *line = input().split()\n",
    "        score = list(map(float, line))\n",
    "        student_marks[name] = score\n",
    "    query_name = input()\n",
    "\n",
    "    queried_marks = student_marks[query_name]\n",
    "    average_marks = sum(queried_marks) / len(queried_marks)\n",
    "    print(average_marks)"
   ]
  },
  {
   "cell_type": "markdown",
   "metadata": {},
   "source": [
    "### Converting a list of integers and converting that to a tuple. Then applying the hash function to the tuple "
   ]
  },
  {
   "cell_type": "code",
   "execution_count": 2,
   "metadata": {},
   "outputs": [
    {
     "name": "stdout",
     "output_type": "stream",
     "text": [
      "6909455589863252355\n"
     ]
    }
   ],
   "source": [
    "n = int(input())\n",
    "int_list = map(int,input().split())\n",
    "t= tuple(int_list)\n",
    "h = hash(t)\n",
    "\n",
    "print(h)"
   ]
  },
  {
   "cell_type": "markdown",
   "metadata": {},
   "source": [
    "### Creating a dictionary to store students marks and printing the average result of a given student"
   ]
  },
  {
   "cell_type": "code",
   "execution_count": null,
   "metadata": {},
   "outputs": [],
   "source": [
    "n = int(input()) # This stores the number of students\n",
    "student_marks = {} # Creating an empty dictionary\n",
    "\n",
    "for _ in range(n):\n",
    "    name, *marks = input().split\n",
    "    marks = list(map(float, marks))\n",
    "    student_marks[name] = marks\n",
    "\n",
    "query_name = input() \n",
    "query_marks = student_marks[query_name]\n",
    "average_marks = sum(query_marks) / len(query_marks)\n",
    "\n",
    "print(f\"{average_marks:.2f}\")"
   ]
  },
  {
   "cell_type": "markdown",
   "metadata": {},
   "source": [
    "### Reading the input from the user and performing operations on the list according to the command. List of operations could be: insert, remove, append, sort, print, etc."
   ]
  },
  {
   "cell_type": "code",
   "execution_count": null,
   "metadata": {},
   "outputs": [],
   "source": [
    "N = int(input())\n",
    "my_list = []\n",
    "\n",
    "for _ in range(N):\n",
    "    command = input().split()\n",
    "\n",
    "    if command[0] == 'insert':\n",
    "            my_list.insert(int(command[1]), int(command[2]))\n",
    "    elif command[0] == 'print':\n",
    "            print(my_list)\n",
    "    elif command[0] == 'remove':\n",
    "            my_list.remove(int(command[1]))\n",
    "    elif command[0] == 'append':\n",
    "            my_list.append(int(command[1]))\n",
    "    elif command[0] == 'sort':\n",
    "            my_list.sort()\n",
    "    elif command[0] == 'pop':\n",
    "            my_list.pop()\n",
    "    elif command[0] == 'reverse':\n",
    "            my_list.reverse()"
   ]
  },
  {
   "cell_type": "markdown",
   "metadata": {},
   "source": [
    "### Splitting and joing a text"
   ]
  },
  {
   "cell_type": "code",
   "execution_count": null,
   "metadata": {},
   "outputs": [],
   "source": [
    "def split_join(line):\n",
    "    words = line.split(\" \")\n",
    "    line = \"-\".join(words)\n",
    "    return line;\n",
    "\n",
    "\n",
    "line = input()\n",
    "result = split_join(line)\n",
    "print(result)"
   ]
  },
  {
   "cell_type": "markdown",
   "metadata": {},
   "source": [
    "### Printing first and last name with the help of string concatenation "
   ]
  },
  {
   "cell_type": "code",
   "execution_count": null,
   "metadata": {},
   "outputs": [],
   "source": [
    "def print_full_name(first, last):\n",
    "    print(\"Hello\", first, last + \"!\", \"You just delved into python.\")\n",
    "\n",
    "\n",
    "\n",
    "if __name__ == '__main__':\n",
    "    first_name = input()\n",
    "    last_name = input()\n",
    "    print_full_name(first_name, last_name)"
   ]
  },
  {
   "cell_type": "markdown",
   "metadata": {},
   "source": [
    "### Mutating a string to make it a list and then inserting a character by index swapping"
   ]
  },
  {
   "cell_type": "code",
   "execution_count": null,
   "metadata": {},
   "outputs": [],
   "source": [
    "def mutate_string(string, position, character):\n",
    "    l = list(string)\n",
    "    l[position] = character\n",
    "    string = ''.join(l)\n",
    "    return string;\n",
    "\n",
    "s = input()\n",
    "i , c = input().split()\n",
    "pr_string = mutate_string(s,i,c)\n",
    "print(pr_string)"
   ]
  },
  {
   "cell_type": "markdown",
   "metadata": {},
   "source": [
    "### Swap alphabets from Upper Case to Lower Case in a string   "
   ]
  },
  {
   "cell_type": "code",
   "execution_count": 3,
   "metadata": {},
   "outputs": [
    {
     "name": "stdout",
     "output_type": "stream",
     "text": [
      "uPPEr\n"
     ]
    }
   ],
   "source": [
    "def case_swap(string):\n",
    "    swapped= \"\"\n",
    "    for character in string:\n",
    "        if character.isupper():\n",
    "            swapped = swapped + character.lower()\n",
    "        else: \n",
    "            swapped = swapped + character.upper()    \n",
    "    return swapped;\n",
    "\n",
    "\n",
    "if __name__ == '__main__':\n",
    "    s = input()\n",
    "    result = case_swap(s)\n",
    "    print(result);"
   ]
  },
  {
   "cell_type": "markdown",
   "metadata": {},
   "source": [
    "### Finding substring within a String"
   ]
  },
  {
   "cell_type": "code",
   "execution_count": null,
   "metadata": {},
   "outputs": [],
   "source": [
    "def find_substring_count(string, sub_string):\n",
    "    count = 0\n",
    "    for i in range(len(string)):\n",
    "        if string[i:i+len(sub_string)] == string:\n",
    "            count = count+1;\n",
    "    return count;\n",
    "\n",
    "if __name__ == '__main__':\n",
    "    s1 = input().strip()\n",
    "    s2 = input().strip()\n",
    "    result = find_substring_count(s1,s2)\n",
    "    print(s1,s2, result)"
   ]
  },
  {
   "cell_type": "markdown",
   "metadata": {},
   "source": [
    "### Checking if any character within a given string is alphabetical characters, alphanumeric characters, digits, etc."
   ]
  },
  {
   "cell_type": "code",
   "execution_count": null,
   "metadata": {},
   "outputs": [],
   "source": [
    "if __name__ == \"__main__\":\n",
    "    s = input()\n",
    "    print(any(char.isalnum() for char in s))\n",
    "    print(any(char.isalpha() for char in s))\n",
    "    print(any(char.isdigit() for char in s))\n",
    "    print(any(char.islower() for char in s))\n",
    "    print(any(char.isupper() for char in s))"
   ]
  },
  {
   "cell_type": "markdown",
   "metadata": {},
   "source": [
    "### Text wrap for indenting a string with a given width\n",
    "First, we will import the python module called \"testwrap\" . Then we will make a function which takes an input string from the user. In the text wrap function we will pass the string, as well as the given width after which we want to insert the indentation. Here in the given problem, we want to insert a line break character \"\\n\" after the given width"
   ]
  },
  {
   "cell_type": "code",
   "execution_count": null,
   "metadata": {},
   "outputs": [],
   "source": [
    "import textwrap\n",
    "\n",
    "def wrap(string, width):\n",
    "    result = \"\\n\".join(textwrap.wrap(string,width))\n",
    "    return result;\n",
    "\n",
    "if __name__ == '__main__':\n",
    "    s = input()\n",
    "    w = int(input())\n",
    "    r = wrap(s,w)\n",
    "    print(r)\n"
   ]
  },
  {
   "cell_type": "markdown",
   "metadata": {},
   "source": [
    "### Printing different types of strings- Decimal, Octal, Hexadecimal, and Binary. \n",
    "In this, we will create a function which takes a string. The task in this problem is to arrange the all four string types in four different vertical lists. The first column would be for decimal, then for octal and so on. The task is also to add space after each column. We will do that using the rjust() function which takes a width parameter and we will put (' ' ) as a space for the width"
   ]
  },
  {
   "cell_type": "code",
   "execution_count": 11,
   "metadata": {},
   "outputs": [],
   "source": [
    "def format_width(n):\n",
    "    width = len(bin(n)[2:])\n",
    "    for i in range(1,n+1):\n",
    "        decimal = str(i).rjust(width, ' ')\n",
    "        octal = oct(i)[2:].rjust(width, ' ')\n",
    "        hexadecimal = hex(i)[2:].upper().rjust(width, ' ')\n",
    "        binary = bin(i)[2:].rjust(width, ' ')\n",
    "\n",
    "        print(f\"{decimal} {octal} {hexadecimal} {binary}\")\n",
    "\n"
   ]
  },
  {
   "cell_type": "markdown",
   "metadata": {},
   "source": [
    "### Capitalizing the first character of a name. \n",
    "For example, if the name is harsh thakur, then H and T should be capitalized. Essentially the first character of the string should be capitalized, and then the character after a space should also be capitalized. First we will take an input string.  The goal is to loop through each character in the string, and keep storing each character in the new string variable. If a space is detected before any character, then capitalize that character."
   ]
  },
  {
   "cell_type": "code",
   "execution_count": 26,
   "metadata": {},
   "outputs": [
    {
     "name": "stdout",
     "output_type": "stream",
     "text": [
      "Harsh Thaj\n"
     ]
    }
   ],
   "source": [
    "str = input()\n",
    "def cap(str):\n",
    "    result = str[0].upper()\n",
    "    for i in range(1,len(str)):\n",
    "        if str[i-1].isspace():\n",
    "            result = result + str[i].upper()\n",
    "        else: \n",
    "            result = result + str[i]\n",
    "    print(result)\n",
    "\n",
    "cap(str)"
   ]
  },
  {
   "cell_type": "markdown",
   "metadata": {},
   "source": [
    "### Merging tools\n",
    "In this problem, we need to divide the string into equal parts specified by the user. The user will give two inputs- Input string, and an integer which will divide the string into equal parts. For instance, if the user writes ABCDEF, and gives 2 as the integer value then the string would be divided as AB CD EF. One more thing that needs to be done is that if there are two consecutive strings in one block, then one of the character needs to be scraped."
   ]
  },
  {
   "cell_type": "code",
   "execution_count": 27,
   "metadata": {},
   "outputs": [],
   "source": [
    "def mergetool(string, k):\n",
    "    n = len(string)\n",
    "    o = n //k\n",
    "    \n",
    "    for i in range(0, n, k):\n",
    "        block = string[i:i+k]\n",
    "        unique_char = []\n",
    "    \n",
    "        for char in block:\n",
    "            if char not in unique_char:\n",
    "                unique_char.append(char)\n",
    "    print(''.join(unique_char))\n",
    "\n",
    "\n"
   ]
  },
  {
   "cell_type": "markdown",
   "metadata": {},
   "source": [
    "### Print the length of a set with distinct countries\n",
    "Here first we will create an empty set. Then we will ask the user how many countries they want to store in that set. Then we will make the user enter N countries in the set, and after that we will find out how many items are there in the set. "
   ]
  },
  {
   "cell_type": "code",
   "execution_count": null,
   "metadata": {},
   "outputs": [],
   "source": [
    "country_list = set()\n",
    "n = int(input())\n",
    "\n",
    "for _ in range(n):\n",
    "    country = input()\n",
    "    country_list.add(country)\n",
    "\n",
    "print(len(country_list))"
   ]
  },
  {
   "cell_type": "markdown",
   "metadata": {},
   "source": [
    "### Set union operators\n",
    "Take two different set of input from the user to form english and french students who watch netflix. We need to find students who at least watch english or french series on Netflix. We will use set functions to get this done. "
   ]
  },
  {
   "cell_type": "code",
   "execution_count": null,
   "metadata": {},
   "outputs": [],
   "source": [
    "n = int(input())\n",
    "english = set(map(int, input().split()))\n",
    "\n",
    "b = int(input())\n",
    "french = set(map(int, input().split()))\n",
    "\n",
    "total = english.union(french)\n",
    "print(len(total))"
   ]
  },
  {
   "cell_type": "markdown",
   "metadata": {},
   "source": [
    "### Set Intersection operator- \n",
    "In this problem we will need to find the students who watch both english and french series. This will be done by storing english students in one set and french students in one set. Then with the intersection function of sets, we will find out students who are common in both the sets."
   ]
  },
  {
   "cell_type": "code",
   "execution_count": null,
   "metadata": {},
   "outputs": [],
   "source": [
    "n = int(input())\n",
    "english = set(map(int, input().split()))\n",
    "\n",
    "b = int(input())\n",
    "french = set(map(int, input().split()))\n",
    "\n",
    "total = english.intersection(french)\n",
    "print(len(total))"
   ]
  },
  {
   "cell_type": "markdown",
   "metadata": {},
   "source": [
    "### Set difference operators\n",
    "Take two different set of input from the user to form english and french students who watch netflix. We need to find students on;y watch english series. We will use the difference function to substract the set of french students from the total set"
   ]
  },
  {
   "cell_type": "code",
   "execution_count": null,
   "metadata": {},
   "outputs": [],
   "source": [
    "n = int(input())\n",
    "english = set(map(int, input().split()))\n",
    "\n",
    "b = int(input())\n",
    "french = set(map(int, input().split()))\n",
    "\n",
    "total = english.difference(french)\n",
    "print(len(total))"
   ]
  },
  {
   "cell_type": "code",
   "execution_count": null,
   "metadata": {},
   "outputs": [],
   "source": [
    "n = int(input())\n",
    "s1 = set(map(int, input().split()))\n",
    "\n",
    "num_operations = int(input())\n",
    "\n",
    "for _ in range(num_operations):\n",
    "    operation, size = input.split()\n",
    "    size = int(size)\n",
    "\n",
    "    elements = set(map(int, input().split()))\n",
    "\n",
    "    if operation == \"intersection_update\":\n",
    "        s1.intersection_update(elements)\n",
    "\n",
    "    elif operation == \"update\":\n",
    "        s1.update(elements)\n",
    "\n",
    "    elif operation == \"symmetric_difference_update\":\n",
    "        s1.symmetric_difference_update(elements)\n",
    "\n",
    "    elif operation == \"difference_update\":\n",
    "        s1.difference_update(elements)\n",
    "\n",
    "print(sum(s1))"
   ]
  },
  {
   "cell_type": "markdown",
   "metadata": {},
   "source": [
    "Printing the symmetric difference between two sets in ascending order"
   ]
  },
  {
   "cell_type": "code",
   "execution_count": null,
   "metadata": {},
   "outputs": [],
   "source": [
    "N = int(input())\n",
    "Ns = set(map(int, input().split()))\n",
    "\n",
    "M = int(input())\n",
    "Ms = set(map(int, int().split()))\n",
    "\n",
    "diff = Ns.symmetric_difference(Ms)\n",
    "\n",
    "sort_diff = sorted(list(diff), reverse=False)\n",
    "\n",
    "for element in sort_diff:\n",
    "    print(element)\n",
    "    "
   ]
  },
  {
   "cell_type": "markdown",
   "metadata": {},
   "source": [
    "Measure happiness by making two different sets and taking input from user by using for loop and if else loop"
   ]
  },
  {
   "cell_type": "code",
   "execution_count": null,
   "metadata": {},
   "outputs": [],
   "source": [
    "def measure_happiness(n, m, arr,  set_a, set_b):\n",
    "\n",
    "    happiness = 0\n",
    "    for num in arr:\n",
    "        if num in set_a:\n",
    "            happiness += 1\n",
    "        elif num in set_b:\n",
    "            happiness -= 1\n",
    "\n",
    "    return happiness     \n",
    "\n",
    "n, m = map(int, input().split())\n",
    "arr = list(map(int, input().split()))\n",
    "set_a =  list(map(int, input().split()))      \n",
    "set_b =  list(map(int, input().split()))  \n",
    "\n",
    "result = measure_happiness(n, m, arr, set_a, set_b)\n",
    "print(result)"
   ]
  },
  {
   "cell_type": "markdown",
   "metadata": {},
   "source": [
    "Checking if a set is a subset of other set. Here first we will take an input from the user for the number of test cases. Then for each test case, we will take two subsets from the user. Then we will compare the two subsets and return true or false."
   ]
  },
  {
   "cell_type": "code",
   "execution_count": null,
   "metadata": {},
   "outputs": [],
   "source": [
    "t = int(input()) \n",
    "\n",
    "for _ in range(t):\n",
    "    A = int(input())\n",
    "    ele_A = set(map(int, input()))\n",
    "\n",
    "    B = int(input())\n",
    "    ele_B = set(map(int, input()))\n",
    "\n",
    "    result = ele_A.issubset(ele_B)\n",
    "    print(result)\n",
    "    "
   ]
  },
  {
   "cell_type": "markdown",
   "metadata": {},
   "source": [
    "Checking if a set is a superset of given set(s). Here first we will take a set from the user which will be our superset. Next we will take an input from the user which says the numnber of sets. Then for the number of sets, we will take set elements from the user as input. Then for each set, we will compare with the main set if the main set is a superset for each set or not. For this we use the superset function in python."
   ]
  },
  {
   "cell_type": "code",
   "execution_count": null,
   "metadata": {},
   "outputs": [],
   "source": [
    "main = set(map(int, input().split()))\n",
    "set_num = int(input)\n",
    "\n",
    "is_check = True\n",
    "\n",
    "for _ in range(set_num):\n",
    "    elements = set(map(int, input().split()))\n",
    "    if not main.issuperset(elements):\n",
    "        is_check = False\n",
    "\n",
    "print(is_check)"
   ]
  },
  {
   "cell_type": "markdown",
   "metadata": {},
   "source": [
    "Discard, pop , remove an element from a given set. We will take input from user for the number of lines for commands. Then for each line, we will take the commands such as pop remove or discard. Then we will perform the specific action on the set as per the user input. Then in the end we will print the sum of the set after all the commands have been applied. "
   ]
  },
  {
   "cell_type": "code",
   "execution_count": null,
   "metadata": {},
   "outputs": [],
   "source": [
    "n = int(input())\n",
    "s = set(map(int, input().split()))\n",
    "N = int(input())\n",
    "command = input().split()\n",
    "\n",
    "for _ in range(N):\n",
    "    if command[0] == \"pop\":\n",
    "        s.pop()\n",
    "    elif command[0] == \"remove\":\n",
    "        element = int(command[1])\n",
    "        s.remove(element)\n",
    "    elif command[0] == \"discard\":\n",
    "        element = int(command[1])\n",
    "        s.discard(element)\n",
    "\n",
    "print(sum(s))            "
   ]
  },
  {
   "cell_type": "markdown",
   "metadata": {},
   "source": [
    "We will first take the size of each group as input from the user. Then in the next line, the user will enter different memebers. The job is to go through the entire list of members provided by the user and then find out which user is the unique one. Which means which user did not occur again and has single presence in the entire set."
   ]
  },
  {
   "cell_type": "code",
   "execution_count": null,
   "metadata": {},
   "outputs": [],
   "source": [
    "K = int(input())\n",
    "members = set(map(int, input().split()))\n",
    "normal_set = set()\n",
    "unique_set = set()\n",
    "\n",
    "for element in members:\n",
    "    if element not in normal_set:\n",
    "        normal_set.add(element)\n",
    "        unique_set.add(element)\n",
    "    else:\n",
    "        unique_set.remove(element)\n",
    "    \n",
    "print(unique_set.pop())"
   ]
  },
  {
   "cell_type": "markdown",
   "metadata": {},
   "source": [
    "take two integers as input from the user and print the division, modulus and divmod result"
   ]
  },
  {
   "cell_type": "code",
   "execution_count": null,
   "metadata": {},
   "outputs": [],
   "source": [
    "a = int(input())\n",
    "b = int(input())\n",
    "\n",
    "print(a //b)\n",
    "print(a % b)\n",
    "print(divmod(a, b))\n"
   ]
  },
  {
   "cell_type": "code",
   "execution_count": null,
   "metadata": {},
   "outputs": [],
   "source": [
    "a = int(input())\n",
    "b = int(input())\n",
    "m = int(input())\n",
    "print(pow(a,b))\n",
    "print(pow(a, b, m))"
   ]
  },
  {
   "cell_type": "code",
   "execution_count": null,
   "metadata": {},
   "outputs": [],
   "source": [
    "import cmath\n",
    "complex_number = input().strip()\n",
    "\n",
    "z = complex(complex_number)\n",
    "r = abs(z)\n",
    "theta= cmath.phase(z)"
   ]
  },
  {
   "cell_type": "markdown",
   "metadata": {},
   "source": [
    "Printing the angle of a right angled triangle- Here we will take two inputs from the user- Side AB and BC. Then we will pass it on to the math.degrees function in which we will use math.atan2 function. "
   ]
  },
  {
   "cell_type": "code",
   "execution_count": null,
   "metadata": {},
   "outputs": [],
   "source": [
    "import math\n",
    "AB = int(input())\n",
    "BC = int(input())\n",
    "\n",
    "angle = math.degrees(math.atan2(AB, BC))\n",
    "print(f\"{round(angle)}\\u00b0\")"
   ]
  },
  {
   "cell_type": "markdown",
   "metadata": {},
   "source": [
    "print the cartesian product of two lists. "
   ]
  },
  {
   "cell_type": "code",
   "execution_count": 54,
   "metadata": {},
   "outputs": [],
   "source": [
    "from itertools import product\n",
    "\n",
    "A = list(map(int, input().split()))\n",
    "B = list(map(int, input().split()))\n",
    "\n",
    "cp = product(A,B)\n",
    "for item in cp:\n",
    "    print(item, end= ' ')"
   ]
  },
  {
   "cell_type": "code",
   "execution_count": null,
   "metadata": {},
   "outputs": [],
   "source": [
    "from itertools import permutations\n",
    "A, k = input().split()\n",
    "k = int(k)\n",
    "\n",
    "perms = permutations(A,k)\n",
    "for item in perms:\n",
    "    print(''.join(item))"
   ]
  },
  {
   "cell_type": "markdown",
   "metadata": {},
   "source": [
    "compressing a string, and reading the occurances of consecutive characters. Then storing the element and their occurances in a tuple to display in output"
   ]
  },
  {
   "cell_type": "code",
   "execution_count": 57,
   "metadata": {},
   "outputs": [
    {
     "name": "stdout",
     "output_type": "stream",
     "text": [
      "(1, h )(1, a )(3, r )(6, s )(1, h )\n"
     ]
    }
   ],
   "source": [
    "from itertools import groupby\n",
    "S = input()\n",
    "string = ''\n",
    "\n",
    "for k,g in groupby(S):\n",
    "    string += f\"({len(list(g))}, {k} )\"\n",
    "print(string)"
   ]
  },
  {
   "cell_type": "markdown",
   "metadata": {},
   "source": [
    "finding the probability using itertools and math library. We first find the possible combinations and then calculate the probability for that combination to occur"
   ]
  },
  {
   "cell_type": "code",
   "execution_count": null,
   "metadata": {},
   "outputs": [],
   "source": [
    "from math import comb\n",
    "from itertools import combinations\n",
    "\n",
    "# Input\n",
    "N = int(input())\n",
    "letters = input().split()\n",
    "K = int(input())\n",
    "\n",
    "count_a = letters.count('a')  # Count occurrences of letter 'a'\n",
    "\n",
    "total_combinations = comb(N, K) # Calculate total number of possible combinations\n",
    "\n",
    "\n",
    "combinations_with_a = sum('a' in combo for combo in combinations(letters, K))  # Calculate number of combinations where at least one index contains 'a'\n",
    "\n",
    "probability = combinations_with_a / total_combinations # Calculate probability\n",
    "\n",
    "\n",
    "print(\"{:.4f}\".format(probability))  # Output the probability with 4 decimal places\n"
   ]
  },
  {
   "cell_type": "markdown",
   "metadata": {},
   "source": [
    "collections deque: take number of operations from user and then check the type of command and then execute it"
   ]
  },
  {
   "cell_type": "code",
   "execution_count": 58,
   "metadata": {},
   "outputs": [
    {
     "name": "stdout",
     "output_type": "stream",
     "text": [
      "1 4\n"
     ]
    }
   ],
   "source": [
    "from collections import deque\n",
    "\n",
    "N = int(input())\n",
    "d = deque()\n",
    "\n",
    "for item in range(N):\n",
    "    input_list = input().split()\n",
    "    if input_list[0] == \"append\":\n",
    "        d.append(input_list[1])\n",
    "    if input_list[0] == \"pop\":\n",
    "        d.pop()\n",
    "print(' '.join(d))"
   ]
  },
  {
   "cell_type": "markdown",
   "metadata": {},
   "source": [
    "Create two lists.then get user to enter numbers in both list. then check if the elements of B exist in list A"
   ]
  },
  {
   "cell_type": "code",
   "execution_count": null,
   "metadata": {},
   "outputs": [],
   "source": [
    "n, m = map(int, input().split())\n",
    "\n",
    "A = []\n",
    "B = []\n",
    "\n",
    "for _ in range(A):\n",
    "    A.append(input())\n",
    "for _ in range(B):\n",
    "    B.append(input())\n",
    "\n",
    "for word in B:\n",
    "    occurances = []\n",
    "    for index, w in enumerate(A):\n",
    "        if w == word: \n",
    "            occurances.append(str(index + 1))\n",
    "        if occurances:\n",
    "            print(' '.join(occurances))\n",
    "        else:\n",
    "            print(-1)"
   ]
  },
  {
   "cell_type": "markdown",
   "metadata": {},
   "source": [
    "python calendar function- we will take an input from the user and store them into three different variables for year, date and month. "
   ]
  },
  {
   "cell_type": "code",
   "execution_count": null,
   "metadata": {},
   "outputs": [],
   "source": [
    "import calendar\n",
    "\n",
    "month, day, year = map(int, input().split())\n",
    "days = [\"Monday\", \"Tuesday\", \"Wednesday\", \"Thursday\", \"Friday\", \"Saturday\", \"Sunday\"]\n",
    "\n",
    "day = calendar.day(year, month, day)\n",
    "\n",
    "print([days[day]].upper())"
   ]
  },
  {
   "cell_type": "markdown",
   "metadata": {},
   "source": [
    "exception handling using try and except. Accept two integers from the user and divide them. If one of them throws an error, handle the situation by displaying an error message. "
   ]
  },
  {
   "cell_type": "code",
   "execution_count": null,
   "metadata": {},
   "outputs": [],
   "source": [
    "try:\n",
    "    T = int(input()) \n",
    "\n",
    "    for _ in range(T):\n",
    "        try:\n",
    "            a,b = map(int, input().split())\n",
    "            print(a//b)\n",
    "        except ZeroDivisionError as e:\n",
    "            print(\"Error Code:\", e)\n",
    "        except ValueError as e:\n",
    "            print(\"Error Code:\", e)\n",
    "except ValueError:\n",
    "    print(\"Error: The number of test cases should be an integer.\")"
   ]
  },
  {
   "cell_type": "markdown",
   "metadata": {},
   "source": [
    "Python class: Here we will make a class called Points which will primarily be used to store the points. "
   ]
  },
  {
   "cell_type": "code",
   "execution_count": 4,
   "metadata": {},
   "outputs": [],
   "source": [
    "class Points(object):\n",
    "    def __init__(self, x, y, z):\n",
    "        self.x = x\n",
    "        self.y = y\n",
    "        self.z = z\n",
    "\n",
    "    def __sub__(self, other):\n",
    "        return Points(self.x - other.x, self.y - other.y, self.z - other.z)\n",
    "    \n",
    "    def cross(self, other):\n",
    "        return Points(self.y * other.z - self.z * other.y,\n",
    "                      self.z * other.x - self.x * other.z,\n",
    "                      self.x * other.y - self.y * other.x)\n",
    "    \n",
    "    def dot(self, other):\n",
    "        return self.x * other.x + self.y * other.y + self.z * other.z\n",
    "    \n",
    "    def absolute(self):\n",
    "        return math.sqrt(self.x**2 + self.y**2 + self.z**2)\n",
    "        "
   ]
  },
  {
   "cell_type": "markdown",
   "metadata": {},
   "source": [
    "difining a class called Complex(object) which takes in a number. then we define other functions under the same class like add divide mod subtract and multiply. We then call the class reference for these functions   "
   ]
  },
  {
   "cell_type": "code",
   "execution_count": null,
   "metadata": {},
   "outputs": [],
   "source": [
    "import math \n",
    "\n",
    "class Complex(object):\n",
    "    def __init__(self, real, imag):\n",
    "        self.real = real\n",
    "        self.imag = imag\n",
    "\n",
    "    def __add__(self,second):\n",
    "        real_part = self.real + second.real\n",
    "        imag_part = self.imag + second.imag\n",
    "        return Complex(real_part, imag_part)\n",
    "    \n",
    "    def __sub__(self, no):\n",
    "        real_part = self.real - no.real\n",
    "        imaginary_part = self.imaginary - no.imaginary\n",
    "        return Complex(real_part, imaginary_part)\n",
    "        \n",
    "    def __mul__(self, no):\n",
    "        real_part = self.real * no.real - self.imaginary * no.imaginary\n",
    "        imaginary_part = self.real * no.imaginary + self.imaginary * no.real\n",
    "        return Complex(real_part, imaginary_part)\n",
    "\n",
    "    def __truediv__(self, no):\n",
    "        conjugate = Complex(no.real, -no.imaginary)\n",
    "        numerator = self * conjugate\n",
    "        denominator = no * conjugate\n",
    "        return Complex(numerator.real / denominator.real, numerator.imaginary / denominator.real)\n",
    "        \n",
    "\n",
    "    def mod(self):\n",
    "        return Complex(math.sqrt(self.real ** 2 + self.imaginary ** 2), 0)\n"
   ]
  },
  {
   "cell_type": "markdown",
   "metadata": {},
   "source": [
    "Zipped- Here we will take N and X- two integers from the user. N is the number of students and X is the number of subjects. Here the task is to store X in a list which would be score for one particular student in X subjects. Then we will use the zip function to map all the marks for one student and all subjects to calculate the average marks of that student"
   ]
  },
  {
   "cell_type": "code",
   "execution_count": null,
   "metadata": {},
   "outputs": [],
   "source": [
    "N, X = int(input().split())\n",
    "X = []\n",
    "\n",
    "for _ in range(N):\n",
    "    X.append(list(map(int, input().split())))\n",
    "\n",
    "for student in zip(*X):\n",
    "    average_marks = sum(student) / X\n",
    "    print(\":.1f\".format(average_marks))"
   ]
  },
  {
   "cell_type": "markdown",
   "metadata": {},
   "source": [
    "Polynomial expression"
   ]
  },
  {
   "cell_type": "code",
   "execution_count": null,
   "metadata": {},
   "outputs": [],
   "source": [
    "x, k = input().split()\n",
    "k = int(k)\n",
    "P = input().replace('x', x)\n",
    "eval(P)\n",
    "\n",
    "if P == k:\n",
    "    print(\"True\")\n",
    "else: \n",
    "    print(\"False\")"
   ]
  },
  {
   "cell_type": "markdown",
   "metadata": {},
   "source": [
    "ginsort- In this problem we will sort an input string and place the lowercase first, uppercase then digit"
   ]
  },
  {
   "cell_type": "code",
   "execution_count": null,
   "metadata": {},
   "outputs": [],
   "source": [
    "S = input()\n",
    "\n",
    "def check(char):\n",
    "    if char.islower():\n",
    "        return(0, char)\n",
    "    elif char.isupper():\n",
    "        return(1, char)\n",
    "    elif char.isdigit():\n",
    "        return(2, char)\n",
    "\n",
    "sorted_string = ''.join(sorted(S, key= check))\n",
    "print(sorted_string)\n"
   ]
  },
  {
   "cell_type": "markdown",
   "metadata": {},
   "source": [
    "lambda funtion- sort a spreadsheet based on a specific column. this column would be passed by the user as input "
   ]
  },
  {
   "cell_type": "code",
   "execution_count": null,
   "metadata": {},
   "outputs": [],
   "source": [
    "name = input().split()\n",
    "a = int(name[0])\n",
    "b = int(name[1])\n",
    "\n",
    "arr = []\n",
    "for _ in range(a):\n",
    "    arr.append(list(map(int, input.rstrip().split())))\n",
    "\n",
    "k = int(input())\n",
    "sorted_array = sorted(arr, key=lambda x: x[k])\n",
    "\n",
    "for row in sorted_array:\n",
    "    print(' '.join(map(str, row)))"
   ]
  },
  {
   "cell_type": "markdown",
   "metadata": {},
   "source": [
    "Validating Email Address using regex using filter function"
   ]
  },
  {
   "cell_type": "code",
   "execution_count": null,
   "metadata": {},
   "outputs": [],
   "source": [
    "import re\n",
    "def fun(s):\n",
    "    pattern = r'^[a-zA-Z0-9_-]+@[a-zA-Z0-9]+\\.[a-zA-Z]{1,3}$'\n",
    "    if re.match(pattern, s):\n",
    "        return True\n",
    "    else:\n",
    "        return False\n",
    "    \n",
    "def filter_emails(emails):\n",
    "    return list(filter(fun, emails))\n",
    "\n",
    "if __name__ == '__main__':\n",
    "    n = int(input())\n",
    "    emails = []\n",
    "    for _ in range(n):\n",
    "        emails.append(input())\n",
    "\n",
    "filtered_emails = filter_emails(emails)\n",
    "filtered_emails.sort()\n",
    "print(filtered_emails)"
   ]
  },
  {
   "cell_type": "code",
   "execution_count": null,
   "metadata": {},
   "outputs": [],
   "source": []
  }
 ],
 "metadata": {
  "kernelspec": {
   "display_name": "Python 3",
   "language": "python",
   "name": "python3"
  },
  "language_info": {
   "codemirror_mode": {
    "name": "ipython",
    "version": 3
   },
   "file_extension": ".py",
   "mimetype": "text/x-python",
   "name": "python",
   "nbconvert_exporter": "python",
   "pygments_lexer": "ipython3",
   "version": "3.10.0"
  }
 },
 "nbformat": 4,
 "nbformat_minor": 2
}
