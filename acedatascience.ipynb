{
 "cells": [
  {
   "cell_type": "markdown",
   "metadata": {},
   "source": [
    "### 1. Finding the runner up of a game. Getting the second highest element of the Array"
   ]
  },
  {
   "cell_type": "code",
   "execution_count": null,
   "metadata": {},
   "outputs": [],
   "source": [
    "if __name__ == '__main__':\n",
    "    n = int(input())\n",
    "    arr = list(map(int, input.split()))\n",
    "\n",
    "    temp_list = list(arr)\n",
    "    max_element = max(arr)\n",
    "\n",
    "    while max_element in temp_list:\n",
    "        temp_list.remove(max_element)\n",
    "\n",
    "    if len(temp_list) > 0:\n",
    "        runner_up = max(temp_list)\n",
    "        print(runner_up)\n",
    "    else:\n",
    "        print(\"The list does not have a runner up\")\n",
    "        \n"
   ]
  },
  {
   "cell_type": "markdown",
   "metadata": {},
   "source": [
    "### Finding average of total marks for a given student. Taking input from the user and then finding the average"
   ]
  },
  {
   "cell_type": "code",
   "execution_count": null,
   "metadata": {},
   "outputs": [],
   "source": [
    "if __name__ == '__main__':\n",
    "    n = int(input())\n",
    "    student_marks = {}\n",
    "    for _ in range(n):\n",
    "        name, *line = input().split()\n",
    "        score = list(map(float, line))\n",
    "        student_marks[name] = score\n",
    "    query_name = input()\n",
    "\n",
    "    queried_marks = student_marks[query_name]\n",
    "    average_marks = sum(queried_marks) / len(queried_marks)\n",
    "    print(average_marks)"
   ]
  },
  {
   "cell_type": "markdown",
   "metadata": {},
   "source": [
    "### Converting a list of integers and converting that to a tuple. Then applying the hash function to the tuple "
   ]
  },
  {
   "cell_type": "code",
   "execution_count": 2,
   "metadata": {},
   "outputs": [
    {
     "name": "stdout",
     "output_type": "stream",
     "text": [
      "6909455589863252355\n"
     ]
    }
   ],
   "source": [
    "n = int(input())\n",
    "int_list = map(int,input().split())\n",
    "t= tuple(int_list)\n",
    "h = hash(t)\n",
    "\n",
    "print(h)"
   ]
  }
 ],
 "metadata": {
  "kernelspec": {
   "display_name": "Python 3",
   "language": "python",
   "name": "python3"
  },
  "language_info": {
   "codemirror_mode": {
    "name": "ipython",
    "version": 3
   },
   "file_extension": ".py",
   "mimetype": "text/x-python",
   "name": "python",
   "nbconvert_exporter": "python",
   "pygments_lexer": "ipython3",
   "version": "3.10.0"
  }
 },
 "nbformat": 4,
 "nbformat_minor": 2
}
