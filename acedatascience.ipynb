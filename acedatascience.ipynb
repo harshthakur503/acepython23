{
 "cells": [
  {
   "cell_type": "markdown",
   "metadata": {},
   "source": [
    "### 1. Finding the runner up of a game. Getting the second highest element of the Array"
   ]
  },
  {
   "cell_type": "code",
   "execution_count": null,
   "metadata": {},
   "outputs": [],
   "source": [
    "if __name__ == '__main__':\n",
    "    n = int(input())\n",
    "    arr = list(map(int, input.split()))\n",
    "\n",
    "    temp_list = list(arr)\n",
    "    max_element = max(arr)\n",
    "\n",
    "    while max_element in temp_list:\n",
    "        temp_list.remove(max_element)\n",
    "\n",
    "    if len(temp_list) > 0:\n",
    "        runner_up = max(temp_list)\n",
    "        print(runner_up)\n",
    "    else:\n",
    "        print(\"The list does not have a runner up\")\n"
   ]
  },
  {
   "cell_type": "code",
   "execution_count": null,
   "metadata": {},
   "outputs": [],
   "source": []
  }
 ],
 "metadata": {
  "kernelspec": {
   "display_name": "Python 3",
   "language": "python",
   "name": "python3"
  },
  "language_info": {
   "codemirror_mode": {
    "name": "ipython",
    "version": 3
   },
   "file_extension": ".py",
   "mimetype": "text/x-python",
   "name": "python",
   "nbconvert_exporter": "python",
   "pygments_lexer": "ipython3",
   "version": "3.10.0"
  }
 },
 "nbformat": 4,
 "nbformat_minor": 2
}
